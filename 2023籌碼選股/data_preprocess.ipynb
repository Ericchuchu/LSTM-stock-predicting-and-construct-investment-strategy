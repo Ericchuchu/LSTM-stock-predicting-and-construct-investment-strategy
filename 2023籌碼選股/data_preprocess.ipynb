{
 "cells": [
  {
   "cell_type": "code",
   "execution_count": 5,
   "metadata": {},
   "outputs": [],
   "source": [
    "import pandas as pd\n",
    "import numpy as np\n",
    "\n",
    "data = pd.read_csv(\"籌碼選股.csv\", encoding = 'utf-8', encoding_errors = 'ignore')\n",
    "# Sort by total volume and take top 20\n",
    "top_volume = data.sort_values(by='近240日成交量合計', ascending=False).head(200).drop(columns=['股票名稱','近240日籌碼集中度','Unnamed: 2'])\n",
    "# Sort by chip concentration and take top 20\n",
    "top_concentration = data.sort_values(by='近240日籌碼集中度', ascending=False).head(200).drop(columns=['近240日成交量合計'])\n",
    "\n",
    "# Find the intersection of the two top 20 lists to get stocks that appear in both\n",
    "common_stocks = pd.merge(top_volume, top_concentration, on='股票代號')# Assuming 'StockID' is your identifier for stocks\n",
    "\n",
    "top_volume.head(10).to_csv(\"selected_stock.csv\", encoding='utf-8-sig')\n"
   ]
  }
 ],
 "metadata": {
  "kernelspec": {
   "display_name": "finance",
   "language": "python",
   "name": "python3"
  },
  "language_info": {
   "codemirror_mode": {
    "name": "ipython",
    "version": 3
   },
   "file_extension": ".py",
   "mimetype": "text/x-python",
   "name": "python",
   "nbconvert_exporter": "python",
   "pygments_lexer": "ipython3",
   "version": "3.10.13"
  }
 },
 "nbformat": 4,
 "nbformat_minor": 2
}
